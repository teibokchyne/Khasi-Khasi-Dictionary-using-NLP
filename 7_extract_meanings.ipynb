{
 "cells": [
  {
   "cell_type": "markdown",
   "id": "fffc780e",
   "metadata": {},
   "source": [
    "# Train llm to find meanings\n",
    "1. Create embeddings word wise.\n",
    "2. Train llm to extract meaning from text."
   ]
  }
 ],
 "metadata": {
  "language_info": {
   "name": "python"
  }
 },
 "nbformat": 4,
 "nbformat_minor": 5
}
