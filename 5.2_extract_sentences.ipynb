{
 "cells": [
  {
   "cell_type": "markdown",
   "id": "4fce0988",
   "metadata": {},
   "source": [
    "# Extract Sentences from Corpus"
   ]
  },
  {
   "cell_type": "code",
   "execution_count": 1,
   "id": "0cb0c9e0",
   "metadata": {},
   "outputs": [
    {
     "name": "stdout",
     "output_type": "stream",
     "text": [
      "📄 Processing: Khasi-(1871)-New-Testament.pdf\n",
      "📄 Processing: Khasi-(1979)-New-Testament-(Ka-Testament-Kaba-Thymmai).pdf\n",
      "📄 Processing: Printable Khasi Gospel Tract - ONLY JESUS CHRIST SAVES.pdf\n",
      "📄 Processing: U BRIEW U BA PYNDONBUROM IA U BLEI.pdf\n",
      "📄 Processing: U Glottal Stop ha ka Ktien Khasi_Revised.pdf\n",
      "📄 Processing: U “O” ka Ktien Khasi.pdf\n"
     ]
    }
   ],
   "source": [
    "import re\n",
    "import os\n",
    "from pdf2image import convert_from_path\n",
    "import pytesseract\n",
    "\n",
    "# --- Step 1: Convert PDF pages to images (lazy, one at a time) ---\n",
    "def pdf_to_images_lazy(pdf_path, dpi=300):\n",
    "    return convert_from_path(pdf_path, dpi=dpi, fmt='jpeg', thread_count=1)\n",
    "\n",
    "# --- Step 2: Extract text and save sentences directly ---\n",
    "def extract_and_save_sentences(pdf_path, output_path):\n",
    "    with open(output_path, 'w', encoding='utf-8') as f:\n",
    "        for i, img in enumerate(pdf_to_images_lazy(pdf_path)):\n",
    "            try:\n",
    "                page_text = pytesseract.image_to_string(img, lang='spa+fra')  # Change to 'khasi' if available\n",
    "                sentences = re.split(r'(?<=[.!?])\\s+', page_text.strip())\n",
    "                cleaned_sentences = [s.strip() for s in sentences if s.strip()]\n",
    "                for sentence in cleaned_sentences:\n",
    "                    f.write(sentence + '\\n')\n",
    "            except Exception as e:\n",
    "                print(f\"⚠️ Failed to OCR page {i+1} in {pdf_path}: {e}\")\n",
    "\n",
    "# --- Main logic to process all PDFs ---\n",
    "if __name__ == \"__main__\":\n",
    "    input_folder = 'downloads_ocr'\n",
    "    output_folder = 'outputs/sentences'\n",
    "\n",
    "    os.makedirs(output_folder, exist_ok=True)\n",
    "\n",
    "    # Resume from a specific index if needed (e.g., [602:])\n",
    "    for filename in os.listdir(input_folder)[603:]:\n",
    "        if filename.lower().endswith('.pdf'):\n",
    "            input_path = os.path.join(input_folder, filename)\n",
    "            base_name = os.path.splitext(filename)[0]\n",
    "            sentence_output_path = os.path.join(output_folder, f\"{base_name}_sentences.txt\")\n",
    "\n",
    "            try:\n",
    "                print(f\"📄 Processing: {filename}\")\n",
    "                extract_and_save_sentences(input_path, sentence_output_path)\n",
    "            except Exception as e:\n",
    "                print(f\"❌ Failed to process {filename}: {e}\")\n"
   ]
  }
 ],
 "metadata": {
  "kernelspec": {
   "display_name": "khasi-env",
   "language": "python",
   "name": "python3"
  },
  "language_info": {
   "codemirror_mode": {
    "name": "ipython",
    "version": 3
   },
   "file_extension": ".py",
   "mimetype": "text/x-python",
   "name": "python",
   "nbconvert_exporter": "python",
   "pygments_lexer": "ipython3",
   "version": "3.12.4"
  }
 },
 "nbformat": 4,
 "nbformat_minor": 5
}
