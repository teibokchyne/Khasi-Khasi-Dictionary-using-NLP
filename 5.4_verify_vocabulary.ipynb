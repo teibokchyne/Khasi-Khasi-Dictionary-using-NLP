{
 "cells": [
  {
   "cell_type": "code",
   "execution_count": null,
   "id": "68d7e5bf",
   "metadata": {},
   "outputs": [
    {
     "name": "stdout",
     "output_type": "stream",
     "text": [
      "✅ Saved 485859 words to outputs/verified_vocabulary/khasi_vocab.txt\n"
     ]
    }
   ],
   "source": [
    "import os\n",
    "import re\n",
    "from collections import Counter\n",
    "\n",
    "def extract_vocab_from_dir(input_dir, output_path, top_k=None):\n",
    "    word_counter = Counter()\n",
    "\n",
    "    for filename in os.listdir(input_dir):\n",
    "        if filename.endswith(\".txt\"):\n",
    "            with open(os.path.join(input_dir, filename), 'r', encoding='utf-8') as f:\n",
    "                for line in f:\n",
    "                    words = re.findall(r'\\b[\\w\\-]+\\b', line.lower())\n",
    "                    word_counter.update(words)\n",
    "\n",
    "    most_common = word_counter.most_common(top_k)\n",
    "    with open(output_path, 'w', encoding='utf-8') as f:\n",
    "        for word, count in most_common:\n",
    "            f.write(f\"{word}\\t{count}\\n\")\n",
    "\n",
    "    print(f\"✅ Saved {len(most_common)} words to {output_path}\")\n",
    "\n",
    "# Example usage\n",
    "if __name__ == \"__main__\":\n",
    "    extract_vocab_from_dir(\n",
    "        input_dir=\"outputs/full_sentences\",\n",
    "        output_path=\"outputs/collected_vocabulary/khasi_vocab.txt\",\n",
    "        top_k=None  # You can use 5000 or 10000 to limit\n",
    "    )\n"
   ]
  }
 ],
 "metadata": {
  "kernelspec": {
   "display_name": "khasi-env",
   "language": "python",
   "name": "python3"
  },
  "language_info": {
   "codemirror_mode": {
    "name": "ipython",
    "version": 3
   },
   "file_extension": ".py",
   "mimetype": "text/x-python",
   "name": "python",
   "nbconvert_exporter": "python",
   "pygments_lexer": "ipython3",
   "version": "3.12.4"
  }
 },
 "nbformat": 4,
 "nbformat_minor": 5
}
