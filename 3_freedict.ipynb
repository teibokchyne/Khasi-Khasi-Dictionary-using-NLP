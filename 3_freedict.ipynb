{
 "cells": [
  {
   "cell_type": "markdown",
   "id": "67b63a37",
   "metadata": {},
   "source": [
    "I have downloaded freedict Khasi-Eng dictionary.\n",
    "This files exist to attempt to read it."
   ]
  },
  {
   "cell_type": "code",
   "execution_count": 2,
   "id": "ded6d206",
   "metadata": {},
   "outputs": [
    {
     "ename": "ValueError",
     "evalue": "too many values to unpack (expected 2)",
     "output_type": "error",
     "traceback": [
      "\u001b[1;31m---------------------------------------------------------------------------\u001b[0m",
      "\u001b[1;31mValueError\u001b[0m                                Traceback (most recent call last)",
      "Cell \u001b[1;32mIn[2], line 22\u001b[0m\n\u001b[0;32m     20\u001b[0m \u001b[38;5;28;01mif\u001b[39;00m \u001b[38;5;124m'\u001b[39m\u001b[38;5;130;01m\\t\u001b[39;00m\u001b[38;5;124m'\u001b[39m \u001b[38;5;129;01mnot\u001b[39;00m \u001b[38;5;129;01min\u001b[39;00m line:\n\u001b[0;32m     21\u001b[0m     \u001b[38;5;28;01mcontinue\u001b[39;00m  \u001b[38;5;66;03m# skip malformed lines\u001b[39;00m\n\u001b[1;32m---> 22\u001b[0m word, offset_str \u001b[38;5;241m=\u001b[39m line\u001b[38;5;241m.\u001b[39mstrip()\u001b[38;5;241m.\u001b[39msplit(\u001b[38;5;124m\"\u001b[39m\u001b[38;5;130;01m\\t\u001b[39;00m\u001b[38;5;124m\"\u001b[39m)\n\u001b[0;32m     23\u001b[0m offset \u001b[38;5;241m=\u001b[39m \u001b[38;5;28mint\u001b[39m(offset_str)\n\u001b[0;32m     25\u001b[0m \u001b[38;5;66;03m# Move to offset and read until next null byte\u001b[39;00m\n",
      "\u001b[1;31mValueError\u001b[0m: too many values to unpack (expected 2)"
     ]
    }
   ],
   "source": [
    "import gzip\n",
    "import shutil\n",
    "import os\n",
    "\n",
    "path_to_dz = r\"C:\\Users\\lenovo\\Downloads\\freedict-kha-eng-0.2.2.dictd\\kha-eng\\kha-eng.dict.dz\"\n",
    "path_to_index = r\"C:\\Users\\lenovo\\Downloads\\freedict-kha-eng-0.2.2.dictd\\kha-eng\\kha-eng.index\"\n",
    "with gzip.open(path_to_dz, \"rb\") as f_in:\n",
    "    with open(\"kha-eng.dict\", \"wb\") as f_out:\n",
    "        shutil.copyfileobj(f_in, f_out)\n",
    "\n",
    "entries = []\n",
    "\n",
    "# Step 1: Read the index file\n",
    "with open(path_to_index, \"r\", encoding=\"utf-8\") as index_file:\n",
    "    lines = index_file.readlines()\n",
    "\n",
    "# Step 2: Open the uncompressed dictionary\n",
    "with open(\"kha-eng.dict\", \"rb\") as dict_file:\n",
    "    for line in lines:\n",
    "        if '\\t' not in line:\n",
    "            continue  # skip malformed lines\n",
    "        word, offset_str = line.strip().split(\"\\t\")\n",
    "        offset = int(offset_str)\n",
    "\n",
    "        # Move to offset and read until next null byte\n",
    "        dict_file.seek(offset)\n",
    "        definition_bytes = b\"\"\n",
    "        while True:\n",
    "            byte = dict_file.read(1)\n",
    "            if byte == b\"\\0\" or not byte:\n",
    "                break\n",
    "            definition_bytes += byte\n",
    "\n",
    "        try:\n",
    "            definition = definition_bytes.decode(\"utf-8\")\n",
    "        except UnicodeDecodeError:\n",
    "            definition = definition_bytes.decode(\"latin-1\")  # fallback\n",
    "\n",
    "        entries.append({\"word\": word, \"definition\": definition})\n",
    "\n",
    "# Step 3: Save to JSON\n",
    "import json\n",
    "with open(\"khasi_dict.json\", \"w\", encoding=\"utf-8\") as f:\n",
    "    json.dump(entries, f, ensure_ascii=False, indent=2)\n",
    "\n",
    "print(f\"Extracted {len(entries)} entries to khasi_dict.json\")\n"
   ]
  },
  {
   "cell_type": "code",
   "execution_count": 4,
   "id": "cc1a8ce9",
   "metadata": {},
   "outputs": [
    {
     "name": "stdout",
     "output_type": "stream",
     "text": [
      "00databasealphabet\tYeb\tc\n",
      "\n",
      "00databasedictfmt1121\tB\tb\n",
      "\n",
      "00databaseinfo\tc\tjp\n",
      "\n",
      "00databaseshort\tkF\tt\n",
      "\n",
      "00databaseurl\tYeT\tI\n",
      "\n",
      "00databaseutf8\tA\tB\n",
      "\n",
      "a\tky\tDO\n",
      "\n",
      "a\tky\tDO\n",
      "\n",
      "a\toA\tDh\n",
      "\n",
      "a\trh\tE6\n",
      "\n"
     ]
    }
   ],
   "source": [
    "with open(path_to_index, \"r\", encoding=\"utf-8\") as f:\n",
    "    for _ in range(10):\n",
    "        print(f.readline())\n"
   ]
  }
 ],
 "metadata": {
  "kernelspec": {
   "display_name": "Python 3",
   "language": "python",
   "name": "python3"
  },
  "language_info": {
   "codemirror_mode": {
    "name": "ipython",
    "version": 3
   },
   "file_extension": ".py",
   "mimetype": "text/x-python",
   "name": "python",
   "nbconvert_exporter": "python",
   "pygments_lexer": "ipython3",
   "version": "3.12.4"
  }
 },
 "nbformat": 4,
 "nbformat_minor": 5
}
