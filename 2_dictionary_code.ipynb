{
 "cells": [
  {
   "cell_type": "markdown",
   "id": "44119ba5",
   "metadata": {},
   "source": [
    "Hard coded"
   ]
  },
  {
   "cell_type": "code",
   "execution_count": 27,
   "id": "4adcad3d",
   "metadata": {},
   "outputs": [],
   "source": [
    "reference_pdf_path = \"downloads/KHABIB_DBS_HS/KHABIB_DBS_HS/Khasi-(1979)-New-Testament-(Ka-Testament-Kaba-Thymmai)_text.pdf\""
   ]
  },
  {
   "cell_type": "markdown",
   "id": "cf94027c",
   "metadata": {},
   "source": [
    "1. Extracting Text from PDFs (Reference & Source)"
   ]
  },
  {
   "cell_type": "code",
   "execution_count": null,
   "id": "ee3bc2f1",
   "metadata": {},
   "outputs": [],
   "source": [
    "import pymupdf  # PyMuPDF\n",
    "import os\n",
    "\n",
    "  # or pymupdf.Document(filename)\n"
   ]
  },
  {
   "cell_type": "code",
   "execution_count": 36,
   "id": "3ee105df",
   "metadata": {},
   "outputs": [],
   "source": [
    "def extract_text_from_pdf(pdf_path):\n",
    "    doc = pymupdf.open(reference_pdf_path)\n",
    "    text = \"\"\n",
    "    for i in range(len(doc)):\n",
    "        page = doc[i]\n",
    "        text+=page.get_text()\n",
    "    doc.close()\n",
    "    return text\n",
    "\n"
   ]
  },
  {
   "cell_type": "code",
   "execution_count": 37,
   "id": "469b5659",
   "metadata": {},
   "outputs": [],
   "source": [
    "text = extract_text_from_pdf(reference_pdf_path)"
   ]
  },
  {
   "cell_type": "markdown",
   "id": "cca74dad",
   "metadata": {},
   "source": [
    "2. Preprocessing and Tokenization"
   ]
  },
  {
   "cell_type": "code",
   "execution_count": 38,
   "id": "a57e553c",
   "metadata": {},
   "outputs": [],
   "source": [
    "import re\n",
    "\n",
    "def tokenize_words(text):\n",
    "    text = text.lower()\n",
    "    words = re.findall(r'\\b\\w+\\b', text)\n",
    "    return sorted(set(words))\n",
    "\n",
    "# Example usage\n",
    "word_list = tokenize_words(text)\n"
   ]
  },
  {
   "cell_type": "code",
   "execution_count": 39,
   "id": "a3b6ccee",
   "metadata": {},
   "outputs": [
    {
     "name": "stdout",
     "output_type": "stream",
     "text": [
      "9480\n"
     ]
    }
   ],
   "source": [
    "print(len(word_list))"
   ]
  },
  {
   "cell_type": "markdown",
   "id": "0cc873a3",
   "metadata": {},
   "source": [
    "3. Dictionary Construction with Reference Meanings"
   ]
  },
  {
   "cell_type": "code",
   "execution_count": 40,
   "id": "208115df",
   "metadata": {},
   "outputs": [],
   "source": [
    "from difflib import get_close_matches\n",
    "\n",
    "def build_dictionary_from_reference(reference_text, target_words):\n",
    "    reference_entries = re.findall(r\"(\\w+)\\s*:\\s*(.+)\", reference_text)\n",
    "    reference_dict = {word.lower(): meaning for word, meaning in reference_entries}\n",
    "    \n",
    "    custom_dict = {}\n",
    "    for word in target_words:\n",
    "        match = get_close_matches(word, reference_dict.keys(), n=1, cutoff=0.8)\n",
    "        if match:\n",
    "            custom_dict[word] = reference_dict[match[0]]\n",
    "        else:\n",
    "            custom_dict[word] = \"\"  # Or ask user input in future\n",
    "    return custom_dict\n",
    "\n",
    "reference_text = text\n",
    "khasi_dict = build_dictionary_from_reference(reference_text, word_list)\n"
   ]
  },
  {
   "cell_type": "markdown",
   "id": "98ebcdb2",
   "metadata": {},
   "source": [
    "4. Save Dictionary to JSON or CSV"
   ]
  },
  {
   "cell_type": "code",
   "execution_count": 41,
   "id": "1414522f",
   "metadata": {},
   "outputs": [],
   "source": [
    "import json\n",
    "import csv\n",
    "\n",
    "def save_to_json(dictionary, filename=\"khasi_dictionary.json\"):\n",
    "    with open(filename, 'w', encoding='utf-8') as f:\n",
    "        json.dump(dictionary, f, ensure_ascii=False, indent=2)\n",
    "\n",
    "def save_to_csv(dictionary, filename=\"khasi_dictionary.csv\"):\n",
    "    with open(filename, 'w', newline='', encoding='utf-8') as f:\n",
    "        writer = csv.writer(f)\n",
    "        writer.writerow([\"Word\", \"Meaning\"])\n",
    "        for word, meaning in dictionary.items():\n",
    "            writer.writerow([word, meaning])\n",
    "\n",
    "# save_to_json(khasi_dict)\n",
    "save_to_csv(khasi_dict)\n"
   ]
  }
 ],
 "metadata": {
  "kernelspec": {
   "display_name": "Python 3",
   "language": "python",
   "name": "python3"
  },
  "language_info": {
   "codemirror_mode": {
    "name": "ipython",
    "version": 3
   },
   "file_extension": ".py",
   "mimetype": "text/x-python",
   "name": "python",
   "nbconvert_exporter": "python",
   "pygments_lexer": "ipython3",
   "version": "3.12.4"
  }
 },
 "nbformat": 4,
 "nbformat_minor": 5
}
